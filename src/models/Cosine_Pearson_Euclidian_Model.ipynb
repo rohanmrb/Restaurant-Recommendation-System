{
 "cells": [
  {
   "cell_type": "markdown",
   "metadata": {},
   "source": [
    "# Cosine_similairty, Pearson Correlation and Euclidian Distance (Appraoch 2)"
   ]
  },
  {
   "cell_type": "code",
   "execution_count": 1,
   "metadata": {},
   "outputs": [],
   "source": [
    "#importing the required libraries\n",
    "import pandas as pd\n",
    "pd.options.mode.chained_assignment = None # default='warn'\n",
    "from sklearn.feature_extraction.text import TfidfVectorizer\n",
    "from sklearn.metrics.pairwise import cosine_similarity as cs\n",
    "from scipy.stats import pearsonr\n",
    "from sklearn.metrics.pairwise import euclidean_distances\n",
    "from sklearn.model_selection import train_test_split\n",
    "df = pd.read_csv('data\\processed\\zomato_final.csv')"
   ]
  },
  {
   "cell_type": "markdown",
   "metadata": {},
   "source": [
    "# Data Cleaning and Preprocessing"
   ]
  },
  {
   "cell_type": "code",
   "execution_count": 2,
   "metadata": {},
   "outputs": [],
   "source": [
    "# pre processing data for the implementation of the model (dropping irrelevant features)\n",
    "#uncomment following line if performing evaluation\n",
    "#df = df.sample(frac = 1)\n",
    "df = df[['name','rate','location','dish_liked','cuisines','approx_cost','neighbourhood']]\n",
    "df.drop_duplicates('name', inplace=True)\n",
    "df.dropna(subset=['cuisines'], inplace=True)"
   ]
  },
  {
   "cell_type": "code",
   "execution_count": 3,
   "metadata": {},
   "outputs": [],
   "source": [
    "#cleaning text data\n",
    "import string\n",
    "PUNCT_TO_REMOVE = string.punctuation\n",
    "def remove_punctuation(text):\n",
    "    return text.translate(str.maketrans('', '', PUNCT_TO_REMOVE))\n",
    "\n",
    "df[\"cuisines\"] = df[\"cuisines\"].apply(lambda text: remove_punctuation(text))"
   ]
  },
  {
   "cell_type": "markdown",
   "metadata": {},
   "source": [
    "# Training"
   ]
  },
  {
   "cell_type": "code",
   "execution_count": 4,
   "metadata": {},
   "outputs": [],
   "source": [
    "#creating new column to combine 'neighbourhood' and 'location'\n",
    "df['addr'] = df['neighbourhood'] +' '+ df['location']\n",
    "\n",
    "#splitting into train and test\n",
    "train_df = df.iloc[:5000,:]\n",
    "test_df = df.iloc[5000:,:]"
   ]
  },
  {
   "cell_type": "code",
   "execution_count": 5,
   "metadata": {},
   "outputs": [],
   "source": [
    "# Setting 'name' as the index for convenience\n",
    "df.set_index('name', inplace=True)\n",
    "train_df.set_index('name', inplace=True)\n",
    "test_df.set_index('name', inplace=True)\n",
    "indices = pd.Series(df.index)"
   ]
  },
  {
   "cell_type": "code",
   "execution_count": 6,
   "metadata": {},
   "outputs": [],
   "source": [
    "#Creating new column with the text columns used for recommendation\n",
    "train_df['combined'] = train_df['addr']  + train_df['cuisines']\n",
    "tfidf = TfidfVectorizer(analyzer='word', ngram_range=(1, 2), min_df=0, stop_words='english')"
   ]
  },
  {
   "cell_type": "markdown",
   "metadata": {},
   "source": [
    "# Recommendation"
   ]
  },
  {
   "cell_type": "code",
   "execution_count": 7,
   "metadata": {},
   "outputs": [],
   "source": [
    "# function to return similarity/distance matrices for the test instance\n",
    "def get_matrices(name):\n",
    "    global train_df\n",
    "    row = df[df.index == name]\n",
    "    row['combined'] = row['addr']  + row['cuisines']\n",
    "    temp_df = train_df\n",
    "    temp_df=temp_df.append(row)\n",
    "    indices = pd.Series(temp_df.index)\n",
    "    tfidf_combined_matrix = tfidf.fit_transform(temp_df['combined'])\n",
    "    combined_similarity = cs(tfidf_combined_matrix,tfidf_combined_matrix)\n",
    "    tfidf_combined_array = tfidf_combined_matrix.toarray()\n",
    "    D = euclidean_distances(tfidf_combined_matrix)\n",
    "    idx = indices[indices == name].index[0]\n",
    "    \n",
    "    return tfidf_combined_matrix,combined_similarity,tfidf_combined_array,D,idx\n",
    "\n",
    "#function the implements the recommendation model for all 3 distance measures. When 'method=All'\n",
    "#it returns the recommendation for all methods. This is used for evaluation of the model.\n",
    "def recommend_2(name, method):\n",
    "    tfidf_combined_matrix,combined_similarity,tfidf_combined_array,D,idx = get_matrices(name)\n",
    "    if method == 'Cosine':\n",
    "        similarity_scores = list(enumerate(combined_similarity[idx]))\n",
    "        similarity_scores = list(filter(lambda x : x[1] > 0.7,similarity_scores)) #similarity threshold\n",
    "        similarity_scores = sorted(similarity_scores, key=lambda x: x[1], reverse=True)\n",
    "        books_index = [i[0] for i in similarity_scores if i[0]!=5000]\n",
    "        return df.iloc[books_index][1:]\n",
    "    \n",
    "    if method == 'Pearson':\n",
    "        correlation = []\n",
    "        for i in range(len(tfidf_combined_array)):\n",
    "            correlation.append(pearsonr(tfidf_combined_array[idx], tfidf_combined_array[i])[0])\n",
    "        correlation = list(enumerate(correlation))\n",
    "        correlation = list(filter(lambda x : x[1] > 0.7,correlation))#similarity threshold\n",
    "        sorted_corr = sorted(correlation, reverse=True, key=lambda x: x[1])\n",
    "        books_index = [i[0] for i in sorted_corr if i[0]!=5000]\n",
    "        return df.iloc[books_index][1:]\n",
    "    \n",
    "    if method == 'Euclidian':\n",
    "        distance = list(enumerate(D[idx]))\n",
    "        distance = list(filter(lambda x : x[1] <1,distance))#similarity threshold\n",
    "        distance = sorted(distance, key=lambda x: x[1])\n",
    "        books_index = [i[0] for i in distance if i[0]!=5000]\n",
    "        return df.iloc[books_index][1:]\n",
    "    \n",
    "    if method == 'All':\n",
    "        similarity_scores = list(enumerate(combined_similarity[idx]))\n",
    "        similarity_scores = list(filter(lambda x : x[1] > 0.7,similarity_scores))\n",
    "        similarity_scores = sorted(similarity_scores, key=lambda x: x[1], reverse=True)\n",
    "        cosine = [i[0] for i in similarity_scores if i[0]!=5000]\n",
    "        cosine = df.iloc[cosine][1:]\n",
    "        \n",
    "        correlation = []\n",
    "        for i in range(len(tfidf_combined_array)):\n",
    "            correlation.append(pearsonr(tfidf_combined_array[idx], tfidf_combined_array[i])[0])\n",
    "        correlation = list(enumerate(correlation))\n",
    "        correlation = list(filter(lambda x : x[1] > 0.7,correlation))\n",
    "        sorted_corr = sorted(correlation, reverse=True, key=lambda x: x[1])\n",
    "        pearson = [i[0] for i in sorted_corr if i[0]!=5000]\n",
    "        pearson = df.iloc[pearson][1:]\n",
    "        \n",
    "        \n",
    "        distance = list(enumerate(D[idx]))\n",
    "        distance = list(filter(lambda x : x[1] <1,distance))\n",
    "        distance = sorted(distance, key=lambda x: x[1])\n",
    "        euclidian = [i[0] for i in distance if i[0]!=5000]\n",
    "        euclidian = df.iloc[euclidian][1:]\n",
    "        \n",
    "        return cosine,pearson,euclidian\n",
    "    "
   ]
  },
  {
   "cell_type": "markdown",
   "metadata": {},
   "source": [
    "# Output"
   ]
  },
  {
   "cell_type": "code",
   "execution_count": 8,
   "metadata": {},
   "outputs": [
    {
     "data": {
      "text/html": [
       "<div>\n",
       "<style scoped>\n",
       "    .dataframe tbody tr th:only-of-type {\n",
       "        vertical-align: middle;\n",
       "    }\n",
       "\n",
       "    .dataframe tbody tr th {\n",
       "        vertical-align: top;\n",
       "    }\n",
       "\n",
       "    .dataframe thead th {\n",
       "        text-align: right;\n",
       "    }\n",
       "</style>\n",
       "<table border=\"1\" class=\"dataframe\">\n",
       "  <thead>\n",
       "    <tr style=\"text-align: right;\">\n",
       "      <th></th>\n",
       "      <th>rate</th>\n",
       "      <th>location</th>\n",
       "      <th>dish_liked</th>\n",
       "      <th>cuisines</th>\n",
       "      <th>approx_cost</th>\n",
       "      <th>neighbourhood</th>\n",
       "      <th>addr</th>\n",
       "    </tr>\n",
       "    <tr>\n",
       "      <th>name</th>\n",
       "      <th></th>\n",
       "      <th></th>\n",
       "      <th></th>\n",
       "      <th></th>\n",
       "      <th></th>\n",
       "      <th></th>\n",
       "      <th></th>\n",
       "    </tr>\n",
       "  </thead>\n",
       "  <tbody>\n",
       "    <tr>\n",
       "      <th>Anand Donne Biriyani</th>\n",
       "      <td>3.6</td>\n",
       "      <td>Jayanagar</td>\n",
       "      <td>NaN</td>\n",
       "      <td>Biryani</td>\n",
       "      <td>200.0</td>\n",
       "      <td>Banashankari</td>\n",
       "      <td>Banashankari Jayanagar</td>\n",
       "    </tr>\n",
       "    <tr>\n",
       "      <th>Biryanis And More</th>\n",
       "      <td>4.0</td>\n",
       "      <td>Jayanagar</td>\n",
       "      <td>Prawn Biryani, Dragon Chicken, Chicken Boneles...</td>\n",
       "      <td>Biryani North Indian Chinese Andhra South Indian</td>\n",
       "      <td>750.0</td>\n",
       "      <td>Banashankari</td>\n",
       "      <td>Banashankari Jayanagar</td>\n",
       "    </tr>\n",
       "    <tr>\n",
       "      <th>Vindu Andhra Ruchulu</th>\n",
       "      <td>3.8</td>\n",
       "      <td>Jayanagar</td>\n",
       "      <td>Raita, Chicken Curry, Fish, Mutton Biryani, Be...</td>\n",
       "      <td>Biryani North Indian Andhra</td>\n",
       "      <td>800.0</td>\n",
       "      <td>Basavanagudi</td>\n",
       "      <td>Basavanagudi Jayanagar</td>\n",
       "    </tr>\n",
       "    <tr>\n",
       "      <th>Desi Rasoi</th>\n",
       "      <td>3.8</td>\n",
       "      <td>Jayanagar</td>\n",
       "      <td>Hara Bhara Kebab, Lunch Buffet, Naan, Babycorn...</td>\n",
       "      <td>Biryani North Indian Chinese Rajasthani</td>\n",
       "      <td>600.0</td>\n",
       "      <td>Basavanagudi</td>\n",
       "      <td>Basavanagudi Jayanagar</td>\n",
       "    </tr>\n",
       "  </tbody>\n",
       "</table>\n",
       "</div>"
      ],
      "text/plain": [
       "                      rate   location  \\\n",
       "name                                    \n",
       "Anand Donne Biriyani   3.6  Jayanagar   \n",
       "Biryanis And More      4.0  Jayanagar   \n",
       "Vindu Andhra Ruchulu   3.8  Jayanagar   \n",
       "Desi Rasoi             3.8  Jayanagar   \n",
       "\n",
       "                                                             dish_liked  \\\n",
       "name                                                                      \n",
       "Anand Donne Biriyani                                                NaN   \n",
       "Biryanis And More     Prawn Biryani, Dragon Chicken, Chicken Boneles...   \n",
       "Vindu Andhra Ruchulu  Raita, Chicken Curry, Fish, Mutton Biryani, Be...   \n",
       "Desi Rasoi            Hara Bhara Kebab, Lunch Buffet, Naan, Babycorn...   \n",
       "\n",
       "                                                              cuisines  \\\n",
       "name                                                                     \n",
       "Anand Donne Biriyani                                           Biryani   \n",
       "Biryanis And More     Biryani North Indian Chinese Andhra South Indian   \n",
       "Vindu Andhra Ruchulu                       Biryani North Indian Andhra   \n",
       "Desi Rasoi                     Biryani North Indian Chinese Rajasthani   \n",
       "\n",
       "                      approx_cost neighbourhood                    addr  \n",
       "name                                                                     \n",
       "Anand Donne Biriyani        200.0  Banashankari  Banashankari Jayanagar  \n",
       "Biryanis And More           750.0  Banashankari  Banashankari Jayanagar  \n",
       "Vindu Andhra Ruchulu        800.0  Basavanagudi  Basavanagudi Jayanagar  \n",
       "Desi Rasoi                  600.0  Basavanagudi  Basavanagudi Jayanagar  "
      ]
     },
     "execution_count": 8,
     "metadata": {},
     "output_type": "execute_result"
    }
   ],
   "source": [
    "recommend_2('Meghana Foods','Euclidian')"
   ]
  },
  {
   "cell_type": "markdown",
   "metadata": {},
   "source": [
    "# Evaluation"
   ]
  },
  {
   "cell_type": "code",
   "execution_count": null,
   "metadata": {},
   "outputs": [],
   "source": [
    "#Used to evaluate the model, takes alot of time to run. DataFrame is sampled(shuffled) before running.\n",
    "psum =0\n",
    "csum = 0\n",
    "esum = 0\n",
    "cset = set()\n",
    "pset = set()\n",
    "eset = set()\n",
    "count=0\n",
    "for ind in test_df.index[:1000]:\n",
    "    print(count)\n",
    "    count+=1\n",
    "    cosine,pearson,euclidian = recommend_2(ind,'All')\n",
    "    csum += len(cosine)\n",
    "    psum += len(pearson)\n",
    "    esum += len(euclidian)\n",
    "    for i in cosine.index:\n",
    "        cset.add(i)\n",
    "    for i in pearson.index:\n",
    "        pset.add(i)\n",
    "    for i in euclidian.index:\n",
    "        eset.add(i)\n",
    "print(\"Cosine Quality\")\n",
    "print(csum/1000)\n",
    "print(\"Pearson Quality\")\n",
    "print(psum/1000)\n",
    "print(\"Euclidian Quality\")\n",
    "print(esum/1000)\n",
    "print()\n",
    "print(\"Cosine Coverage\")\n",
    "print(len(cset)/len(train_df))\n",
    "print(\"Pearson Coverage\")\n",
    "print(len(pset)/len(train_df))\n",
    "print(\"Euclidian Coverage\")\n",
    "print(len(eset)/len(train_df))"
   ]
  },
  {
   "cell_type": "code",
   "execution_count": null,
   "metadata": {},
   "outputs": [],
   "source": [
    "\"\"\"Output Obtained\n",
    "Cosine Quality\n",
    "8.52\n",
    "Pearson Quality\n",
    "8.511\n",
    "Euclidian Quality\n",
    "15.848\n",
    "\n",
    "Cosine Coverage\n",
    "0.4212\n",
    "Pearson Coverage\n",
    "0.4208\n",
    "Euclidian Coverage\n",
    "0.6122\n",
    "\"\"\""
   ]
  }
 ],
 "metadata": {
  "kernelspec": {
   "display_name": "Python 3 (ipykernel)",
   "language": "python",
   "name": "python3"
  },
  "language_info": {
   "codemirror_mode": {
    "name": "ipython",
    "version": 3
   },
   "file_extension": ".py",
   "mimetype": "text/x-python",
   "name": "python",
   "nbconvert_exporter": "python",
   "pygments_lexer": "ipython3",
   "version": "3.7.6"
  }
 },
 "nbformat": 4,
 "nbformat_minor": 4
}
