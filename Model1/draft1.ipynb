{
 "cells": [
  {
   "cell_type": "code",
   "execution_count": 1,
   "metadata": {},
   "outputs": [],
   "source": [
    "import pandas as pd\n",
    "from sklearn.feature_extraction.text import TfidfVectorizer\n",
    "from sklearn.metrics.pairwise import cosine_similarity as cs\n",
    "\n",
    "df = pd.read_csv('1.csv')"
   ]
  },
  {
   "cell_type": "code",
   "execution_count": 2,
   "metadata": {},
   "outputs": [
    {
     "data": {
      "text/plain": [
       "Index(['Unnamed: 0', 'name', 'online_order', 'book_table', 'rate', 'votes',\n",
       "       'location', 'rest_type', 'dish_liked', 'cuisines', 'approx_cost',\n",
       "       'reviews_list', 'menu_item', 'type', 'neighbourhood'],\n",
       "      dtype='object')"
      ]
     },
     "execution_count": 2,
     "metadata": {},
     "output_type": "execute_result"
    }
   ],
   "source": [
    "df.columns"
   ]
  },
  {
   "cell_type": "code",
   "execution_count": 3,
   "metadata": {},
   "outputs": [],
   "source": [
    "df = df[['name','rate','location','dish_liked','cuisines','approx_cost','neighbourhood']]"
   ]
  },
  {
   "cell_type": "code",
   "execution_count": 4,
   "metadata": {},
   "outputs": [
    {
     "data": {
      "text/plain": [
       "name                0\n",
       "rate             2454\n",
       "location            0\n",
       "dish_liked       5870\n",
       "cuisines            0\n",
       "approx_cost        36\n",
       "neighbourhood       0\n",
       "dtype: int64"
      ]
     },
     "execution_count": 4,
     "metadata": {},
     "output_type": "execute_result"
    }
   ],
   "source": [
    "df.drop_duplicates('name', inplace=True)\n",
    "df.dropna(subset=['cuisines'], inplace=True)\n",
    "df.isnull().sum()"
   ]
  },
  {
   "cell_type": "code",
   "execution_count": 5,
   "metadata": {},
   "outputs": [],
   "source": [
    "import string\n",
    "PUNCT_TO_REMOVE = string.punctuation\n",
    "def remove_punctuation(text):\n",
    "    \"\"\"custom function to remove the punctuation\"\"\"\n",
    "    return text.translate(str.maketrans('', '', PUNCT_TO_REMOVE))\n",
    "\n",
    "df[\"cuisines\"] = df[\"cuisines\"].apply(lambda text: remove_punctuation(text))"
   ]
  },
  {
   "cell_type": "code",
   "execution_count": 6,
   "metadata": {},
   "outputs": [
    {
     "data": {
      "text/html": [
       "<div>\n",
       "<style scoped>\n",
       "    .dataframe tbody tr th:only-of-type {\n",
       "        vertical-align: middle;\n",
       "    }\n",
       "\n",
       "    .dataframe tbody tr th {\n",
       "        vertical-align: top;\n",
       "    }\n",
       "\n",
       "    .dataframe thead th {\n",
       "        text-align: right;\n",
       "    }\n",
       "</style>\n",
       "<table border=\"1\" class=\"dataframe\">\n",
       "  <thead>\n",
       "    <tr style=\"text-align: right;\">\n",
       "      <th></th>\n",
       "      <th>name</th>\n",
       "      <th>rate</th>\n",
       "      <th>location</th>\n",
       "      <th>dish_liked</th>\n",
       "      <th>cuisines</th>\n",
       "      <th>approx_cost</th>\n",
       "      <th>neighbourhood</th>\n",
       "      <th>addr</th>\n",
       "    </tr>\n",
       "  </thead>\n",
       "  <tbody>\n",
       "    <tr>\n",
       "      <th>0</th>\n",
       "      <td>Jalsa</td>\n",
       "      <td>4.1</td>\n",
       "      <td>Banashankari</td>\n",
       "      <td>Pasta, Lunch Buffet, Masala Papad, Paneer Laja...</td>\n",
       "      <td>North Indian Mughlai Chinese</td>\n",
       "      <td>800.0</td>\n",
       "      <td>Banashankari</td>\n",
       "      <td>Banashankari Banashankari</td>\n",
       "    </tr>\n",
       "    <tr>\n",
       "      <th>1</th>\n",
       "      <td>Spice Elephant</td>\n",
       "      <td>4.1</td>\n",
       "      <td>Banashankari</td>\n",
       "      <td>Momos, Lunch Buffet, Chocolate Nirvana, Thai G...</td>\n",
       "      <td>Chinese North Indian Thai</td>\n",
       "      <td>800.0</td>\n",
       "      <td>Banashankari</td>\n",
       "      <td>Banashankari Banashankari</td>\n",
       "    </tr>\n",
       "    <tr>\n",
       "      <th>2</th>\n",
       "      <td>San Churro Cafe</td>\n",
       "      <td>3.8</td>\n",
       "      <td>Banashankari</td>\n",
       "      <td>Churros, Cannelloni, Minestrone Soup, Hot Choc...</td>\n",
       "      <td>Cafe Mexican Italian</td>\n",
       "      <td>800.0</td>\n",
       "      <td>Banashankari</td>\n",
       "      <td>Banashankari Banashankari</td>\n",
       "    </tr>\n",
       "    <tr>\n",
       "      <th>3</th>\n",
       "      <td>Addhuri Udupi Bhojana</td>\n",
       "      <td>3.7</td>\n",
       "      <td>Banashankari</td>\n",
       "      <td>Masala Dosa</td>\n",
       "      <td>South Indian North Indian</td>\n",
       "      <td>300.0</td>\n",
       "      <td>Banashankari</td>\n",
       "      <td>Banashankari Banashankari</td>\n",
       "    </tr>\n",
       "    <tr>\n",
       "      <th>4</th>\n",
       "      <td>Grand Village</td>\n",
       "      <td>3.8</td>\n",
       "      <td>Basavanagudi</td>\n",
       "      <td>Panipuri, Gol Gappe</td>\n",
       "      <td>North Indian Rajasthani</td>\n",
       "      <td>600.0</td>\n",
       "      <td>Banashankari</td>\n",
       "      <td>Banashankari Basavanagudi</td>\n",
       "    </tr>\n",
       "  </tbody>\n",
       "</table>\n",
       "</div>"
      ],
      "text/plain": [
       "                    name  rate      location  \\\n",
       "0                  Jalsa   4.1  Banashankari   \n",
       "1         Spice Elephant   4.1  Banashankari   \n",
       "2        San Churro Cafe   3.8  Banashankari   \n",
       "3  Addhuri Udupi Bhojana   3.7  Banashankari   \n",
       "4          Grand Village   3.8  Basavanagudi   \n",
       "\n",
       "                                          dish_liked  \\\n",
       "0  Pasta, Lunch Buffet, Masala Papad, Paneer Laja...   \n",
       "1  Momos, Lunch Buffet, Chocolate Nirvana, Thai G...   \n",
       "2  Churros, Cannelloni, Minestrone Soup, Hot Choc...   \n",
       "3                                        Masala Dosa   \n",
       "4                                Panipuri, Gol Gappe   \n",
       "\n",
       "                       cuisines  approx_cost neighbourhood  \\\n",
       "0  North Indian Mughlai Chinese        800.0  Banashankari   \n",
       "1     Chinese North Indian Thai        800.0  Banashankari   \n",
       "2          Cafe Mexican Italian        800.0  Banashankari   \n",
       "3     South Indian North Indian        300.0  Banashankari   \n",
       "4       North Indian Rajasthani        600.0  Banashankari   \n",
       "\n",
       "                        addr  \n",
       "0  Banashankari Banashankari  \n",
       "1  Banashankari Banashankari  \n",
       "2  Banashankari Banashankari  \n",
       "3  Banashankari Banashankari  \n",
       "4  Banashankari Basavanagudi  "
      ]
     },
     "execution_count": 6,
     "metadata": {},
     "output_type": "execute_result"
    }
   ],
   "source": [
    "df['addr'] = df['neighbourhood'] +' '+ df['location']\n",
    "df.head()"
   ]
  },
  {
   "cell_type": "code",
   "execution_count": 7,
   "metadata": {},
   "outputs": [],
   "source": [
    "df.set_index('name', inplace=True)\n",
    "indices = pd.Series(df.index)"
   ]
  },
  {
   "cell_type": "code",
   "execution_count": 8,
   "metadata": {},
   "outputs": [],
   "source": [
    "tfidf = TfidfVectorizer(analyzer='word', ngram_range=(1, 2), min_df=0, stop_words='english')\n",
    "tfidf_cuisine_matrix = tfidf.fit_transform(df['cuisines'])\n",
    "tfidf_location_matrix = tfidf.fit_transform(df['addr'])"
   ]
  },
  {
   "cell_type": "code",
   "execution_count": 9,
   "metadata": {},
   "outputs": [],
   "source": [
    "cuisine_similarity = cs(tfidf_cuisine_matrix,tfidf_cuisine_matrix)\n",
    "location_similarity = cs(tfidf_location_matrix,tfidf_location_matrix)"
   ]
  },
  {
   "cell_type": "code",
   "execution_count": 10,
   "metadata": {},
   "outputs": [
    {
     "name": "stdout",
     "output_type": "stream",
     "text": [
      "[400.]\n"
     ]
    }
   ],
   "source": [
    "print(df[df.index == '7 Hills Garden Restaurant']['approx_cost'].values)"
   ]
  },
  {
   "cell_type": "code",
   "execution_count": 21,
   "metadata": {},
   "outputs": [],
   "source": [
    "def recommend(name):\n",
    "    recommendations = []\n",
    "\n",
    "    idx = indices[indices == name].index[0]\n",
    "\n",
    "    cuisine_series = pd.Series(cuisine_similarity[idx]).sort_values(ascending=False)\n",
    "    top_cuisine = list(cuisine_series.iloc[0:2000].index)\n",
    "\n",
    "    location_series = pd.Series(location_similarity[idx]).sort_values(ascending=False)\n",
    "    top_location = list(location_series.iloc[0:1000].index)\n",
    "\n",
    "    for i in top_cuisine:\n",
    "        for j in top_location:\n",
    "            if i == j:\n",
    "                recommendations.append(list(df.index)[i])\n",
    "\n",
    "    df_new = pd.DataFrame(columns=['cuisines','rate', 'approx_cost', 'addr'])\n",
    "    \n",
    "    for each in recommendations:\n",
    "        df_new = df_new.append(pd.DataFrame(df[['cuisines','rate', 'approx_cost', 'addr']][df.index == each].sample()))\n",
    "    \n",
    "    df_new = df_new.drop_duplicates()\n",
    "\n",
    "    df_new['cost_diff'] = df_new['approx_cost'] - (df[df.index == name]['approx_cost'].values[0])\n",
    "    drop_names = df_new[(df_new['cost_diff'] > 201) | (df_new['cost_diff'] < -201)].index\n",
    "    df_new.drop(drop_names, inplace=True)\n",
    "\n",
    "    df_new = df_new.sort_values(by='rate', ascending=False)\n",
    "\n",
    "    df_new.to_csv('temp.csv')\n",
    "    df_new.drop(['cost_diff'], axis=1, inplace=True)\n",
    "    return df_new.head(10)"
   ]
  },
  {
   "cell_type": "code",
   "execution_count": 23,
   "metadata": {},
   "outputs": [
    {
     "data": {
      "text/html": [
       "<div>\n",
       "<style scoped>\n",
       "    .dataframe tbody tr th:only-of-type {\n",
       "        vertical-align: middle;\n",
       "    }\n",
       "\n",
       "    .dataframe tbody tr th {\n",
       "        vertical-align: top;\n",
       "    }\n",
       "\n",
       "    .dataframe thead th {\n",
       "        text-align: right;\n",
       "    }\n",
       "</style>\n",
       "<table border=\"1\" class=\"dataframe\">\n",
       "  <thead>\n",
       "    <tr style=\"text-align: right;\">\n",
       "      <th></th>\n",
       "      <th>cuisines</th>\n",
       "      <th>rate</th>\n",
       "      <th>approx_cost</th>\n",
       "      <th>addr</th>\n",
       "    </tr>\n",
       "  </thead>\n",
       "  <tbody>\n",
       "    <tr>\n",
       "      <th>Empire Restaurant</th>\n",
       "      <td>North Indian Mughlai South Indian Chinese</td>\n",
       "      <td>4.4</td>\n",
       "      <td>750.0</td>\n",
       "      <td>Banashankari Jayanagar</td>\n",
       "    </tr>\n",
       "    <tr>\n",
       "      <th>Meghana Foods</th>\n",
       "      <td>Biryani North Indian Chinese</td>\n",
       "      <td>4.4</td>\n",
       "      <td>600.0</td>\n",
       "      <td>Banashankari Jayanagar</td>\n",
       "    </tr>\n",
       "    <tr>\n",
       "      <th>The Royal Corner - Pai Viceroy</th>\n",
       "      <td>North Indian Chinese</td>\n",
       "      <td>4.2</td>\n",
       "      <td>900.0</td>\n",
       "      <td>Banashankari Jayanagar</td>\n",
       "    </tr>\n",
       "    <tr>\n",
       "      <th>Kapoor's Cafe</th>\n",
       "      <td>North Indian</td>\n",
       "      <td>4.2</td>\n",
       "      <td>800.0</td>\n",
       "      <td>Banashankari Jayanagar</td>\n",
       "    </tr>\n",
       "    <tr>\n",
       "      <th>Jalsa</th>\n",
       "      <td>North Indian Mughlai Chinese</td>\n",
       "      <td>4.1</td>\n",
       "      <td>800.0</td>\n",
       "      <td>Banashankari Banashankari</td>\n",
       "    </tr>\n",
       "    <tr>\n",
       "      <th>Hara Fine Dine</th>\n",
       "      <td>North Indian Chinese</td>\n",
       "      <td>4.0</td>\n",
       "      <td>800.0</td>\n",
       "      <td>Banashankari Banashankari</td>\n",
       "    </tr>\n",
       "    <tr>\n",
       "      <th>The Kebab Room - Restaurant &amp; Brewery</th>\n",
       "      <td>Mughlai North Indian</td>\n",
       "      <td>4.0</td>\n",
       "      <td>1000.0</td>\n",
       "      <td>Indiranagar Indiranagar</td>\n",
       "    </tr>\n",
       "    <tr>\n",
       "      <th>Mint and Mustard</th>\n",
       "      <td>North Indian Chinese</td>\n",
       "      <td>4.0</td>\n",
       "      <td>750.0</td>\n",
       "      <td>Banashankari Basavanagudi</td>\n",
       "    </tr>\n",
       "    <tr>\n",
       "      <th>1947</th>\n",
       "      <td>North Indian Chinese</td>\n",
       "      <td>4.0</td>\n",
       "      <td>850.0</td>\n",
       "      <td>Banashankari Banashankari</td>\n",
       "    </tr>\n",
       "    <tr>\n",
       "      <th>Silbatti</th>\n",
       "      <td>North Indian</td>\n",
       "      <td>4.0</td>\n",
       "      <td>750.0</td>\n",
       "      <td>HSR HSR</td>\n",
       "    </tr>\n",
       "  </tbody>\n",
       "</table>\n",
       "</div>"
      ],
      "text/plain": [
       "                                                                        cuisines  \\\n",
       "Empire Restaurant                      North Indian Mughlai South Indian Chinese   \n",
       "Meghana Foods                                       Biryani North Indian Chinese   \n",
       "The Royal Corner - Pai Viceroy                              North Indian Chinese   \n",
       "Kapoor's Cafe                                                       North Indian   \n",
       "Jalsa                                               North Indian Mughlai Chinese   \n",
       "Hara Fine Dine                                              North Indian Chinese   \n",
       "The Kebab Room - Restaurant & Brewery                       Mughlai North Indian   \n",
       "Mint and Mustard                                            North Indian Chinese   \n",
       "1947                                                        North Indian Chinese   \n",
       "Silbatti                                                            North Indian   \n",
       "\n",
       "                                       rate  approx_cost  \\\n",
       "Empire Restaurant                       4.4        750.0   \n",
       "Meghana Foods                           4.4        600.0   \n",
       "The Royal Corner - Pai Viceroy          4.2        900.0   \n",
       "Kapoor's Cafe                           4.2        800.0   \n",
       "Jalsa                                   4.1        800.0   \n",
       "Hara Fine Dine                          4.0        800.0   \n",
       "The Kebab Room - Restaurant & Brewery   4.0       1000.0   \n",
       "Mint and Mustard                        4.0        750.0   \n",
       "1947                                    4.0        850.0   \n",
       "Silbatti                                4.0        750.0   \n",
       "\n",
       "                                                            addr  \n",
       "Empire Restaurant                         Banashankari Jayanagar  \n",
       "Meghana Foods                             Banashankari Jayanagar  \n",
       "The Royal Corner - Pai Viceroy            Banashankari Jayanagar  \n",
       "Kapoor's Cafe                             Banashankari Jayanagar  \n",
       "Jalsa                                  Banashankari Banashankari  \n",
       "Hara Fine Dine                         Banashankari Banashankari  \n",
       "The Kebab Room - Restaurant & Brewery    Indiranagar Indiranagar  \n",
       "Mint and Mustard                       Banashankari Basavanagudi  \n",
       "1947                                   Banashankari Banashankari  \n",
       "Silbatti                                                 HSR HSR  "
      ]
     },
     "execution_count": 23,
     "metadata": {},
     "output_type": "execute_result"
    }
   ],
   "source": [
    "recommend('Jalsa')"
   ]
  },
  {
   "cell_type": "code",
   "execution_count": null,
   "metadata": {},
   "outputs": [],
   "source": []
  }
 ],
 "metadata": {
  "interpreter": {
   "hash": "45aab27213e58ba76edaacf74e025732092b96dd1110dc949bed5f10e8ef4dff"
  },
  "kernelspec": {
   "display_name": "Python 3.9.6 64-bit",
   "name": "python3"
  },
  "language_info": {
   "codemirror_mode": {
    "name": "ipython",
    "version": 3
   },
   "file_extension": ".py",
   "mimetype": "text/x-python",
   "name": "python",
   "nbconvert_exporter": "python",
   "pygments_lexer": "ipython3",
   "version": "3.9.6"
  },
  "orig_nbformat": 4
 },
 "nbformat": 4,
 "nbformat_minor": 2
}
