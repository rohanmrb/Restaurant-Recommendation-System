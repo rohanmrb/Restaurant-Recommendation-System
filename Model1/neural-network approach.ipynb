{
 "cells": [
  {
   "cell_type": "code",
   "execution_count": 1,
   "metadata": {},
   "outputs": [],
   "source": [
    "import numpy as np\n",
    "import pandas as pd"
   ]
  },
  {
   "cell_type": "code",
   "execution_count": 2,
   "metadata": {},
   "outputs": [
    {
     "name": "stderr",
     "output_type": "stream",
     "text": [
      "Using TensorFlow backend.\n"
     ]
    }
   ],
   "source": [
    "from keras.preprocessing.text import one_hot\n",
    "from keras.preprocessing.sequence import pad_sequences\n",
    "from keras.models import Sequential\n",
    "from keras.layers import Dense\n",
    "from keras.layers import Flatten\n",
    "from keras.layers.embeddings import Embedding\n",
    "from sklearn.metrics.pairwise import cosine_similarity"
   ]
  },
  {
   "cell_type": "code",
   "execution_count": 14,
   "metadata": {},
   "outputs": [
    {
     "name": "stdout",
     "output_type": "stream",
     "text": [
      "ERROR! Session/line number was not unique in database. History logging moved to new session 87\n"
     ]
    }
   ],
   "source": [
    "df = pd.read_csv('1.csv')\n",
    "df = df[['name','rate','location','dish_liked','cuisines','approx_cost','neighbourhood']]\n",
    "df.drop_duplicates('name', inplace=True)\n",
    "df.dropna(subset=['cuisines'], inplace=True)"
   ]
  },
  {
   "cell_type": "code",
   "execution_count": 15,
   "metadata": {},
   "outputs": [],
   "source": [
    "import string\n",
    "PUNCT_TO_REMOVE = string.punctuation\n",
    "def remove_punctuation(text):\n",
    "    \"\"\"custom function to remove the punctuation\"\"\"\n",
    "    return text.translate(str.maketrans('', '', PUNCT_TO_REMOVE))\n",
    "\n",
    "df[\"cuisines\"] = df[\"cuisines\"].apply(lambda text: remove_punctuation(text))\n",
    "df['addr'] = df['neighbourhood'] +' '+ df['location']"
   ]
  },
  {
   "cell_type": "code",
   "execution_count": 16,
   "metadata": {},
   "outputs": [
    {
     "data": {
      "text/html": [
       "<div>\n",
       "<style scoped>\n",
       "    .dataframe tbody tr th:only-of-type {\n",
       "        vertical-align: middle;\n",
       "    }\n",
       "\n",
       "    .dataframe tbody tr th {\n",
       "        vertical-align: top;\n",
       "    }\n",
       "\n",
       "    .dataframe thead th {\n",
       "        text-align: right;\n",
       "    }\n",
       "</style>\n",
       "<table border=\"1\" class=\"dataframe\">\n",
       "  <thead>\n",
       "    <tr style=\"text-align: right;\">\n",
       "      <th></th>\n",
       "      <th>name</th>\n",
       "      <th>rate</th>\n",
       "      <th>location</th>\n",
       "      <th>dish_liked</th>\n",
       "      <th>cuisines</th>\n",
       "      <th>approx_cost</th>\n",
       "      <th>neighbourhood</th>\n",
       "      <th>addr</th>\n",
       "    </tr>\n",
       "  </thead>\n",
       "  <tbody>\n",
       "    <tr>\n",
       "      <th>0</th>\n",
       "      <td>Jalsa</td>\n",
       "      <td>4.1</td>\n",
       "      <td>Banashankari</td>\n",
       "      <td>Pasta, Lunch Buffet, Masala Papad, Paneer Laja...</td>\n",
       "      <td>North Indian Mughlai Chinese</td>\n",
       "      <td>800.0</td>\n",
       "      <td>Banashankari</td>\n",
       "      <td>Banashankari Banashankari</td>\n",
       "    </tr>\n",
       "    <tr>\n",
       "      <th>1</th>\n",
       "      <td>Spice Elephant</td>\n",
       "      <td>4.1</td>\n",
       "      <td>Banashankari</td>\n",
       "      <td>Momos, Lunch Buffet, Chocolate Nirvana, Thai G...</td>\n",
       "      <td>Chinese North Indian Thai</td>\n",
       "      <td>800.0</td>\n",
       "      <td>Banashankari</td>\n",
       "      <td>Banashankari Banashankari</td>\n",
       "    </tr>\n",
       "    <tr>\n",
       "      <th>2</th>\n",
       "      <td>San Churro Cafe</td>\n",
       "      <td>3.8</td>\n",
       "      <td>Banashankari</td>\n",
       "      <td>Churros, Cannelloni, Minestrone Soup, Hot Choc...</td>\n",
       "      <td>Cafe Mexican Italian</td>\n",
       "      <td>800.0</td>\n",
       "      <td>Banashankari</td>\n",
       "      <td>Banashankari Banashankari</td>\n",
       "    </tr>\n",
       "    <tr>\n",
       "      <th>3</th>\n",
       "      <td>Addhuri Udupi Bhojana</td>\n",
       "      <td>3.7</td>\n",
       "      <td>Banashankari</td>\n",
       "      <td>Masala Dosa</td>\n",
       "      <td>South Indian North Indian</td>\n",
       "      <td>300.0</td>\n",
       "      <td>Banashankari</td>\n",
       "      <td>Banashankari Banashankari</td>\n",
       "    </tr>\n",
       "    <tr>\n",
       "      <th>4</th>\n",
       "      <td>Grand Village</td>\n",
       "      <td>3.8</td>\n",
       "      <td>Basavanagudi</td>\n",
       "      <td>Panipuri, Gol Gappe</td>\n",
       "      <td>North Indian Rajasthani</td>\n",
       "      <td>600.0</td>\n",
       "      <td>Banashankari</td>\n",
       "      <td>Banashankari Basavanagudi</td>\n",
       "    </tr>\n",
       "    <tr>\n",
       "      <th>...</th>\n",
       "      <td>...</td>\n",
       "      <td>...</td>\n",
       "      <td>...</td>\n",
       "      <td>...</td>\n",
       "      <td>...</td>\n",
       "      <td>...</td>\n",
       "      <td>...</td>\n",
       "      <td>...</td>\n",
       "    </tr>\n",
       "    <tr>\n",
       "      <th>51544</th>\n",
       "      <td>Chime - Sheraton Grand Bengaluru Whitefield Ho...</td>\n",
       "      <td>4.3</td>\n",
       "      <td>ITPL Main Road, Whitefield</td>\n",
       "      <td>Cocktails, Pizza, Buttermilk</td>\n",
       "      <td>Finger Food</td>\n",
       "      <td>2500.0</td>\n",
       "      <td>Whitefield</td>\n",
       "      <td>Whitefield ITPL Main Road, Whitefield</td>\n",
       "    </tr>\n",
       "    <tr>\n",
       "      <th>51547</th>\n",
       "      <td>The Nest - The Den Bengaluru</td>\n",
       "      <td>3.4</td>\n",
       "      <td>ITPL Main Road, Whitefield</td>\n",
       "      <td>NaN</td>\n",
       "      <td>Finger Food North Indian Continental</td>\n",
       "      <td>1500.0</td>\n",
       "      <td>Whitefield</td>\n",
       "      <td>Whitefield ITPL Main Road, Whitefield</td>\n",
       "    </tr>\n",
       "    <tr>\n",
       "      <th>51551</th>\n",
       "      <td>Nawabs Empire</td>\n",
       "      <td>3.2</td>\n",
       "      <td>ITPL Main Road, Whitefield</td>\n",
       "      <td>NaN</td>\n",
       "      <td>North Indian Chinese Arabian Momos</td>\n",
       "      <td>300.0</td>\n",
       "      <td>Whitefield</td>\n",
       "      <td>Whitefield ITPL Main Road, Whitefield</td>\n",
       "    </tr>\n",
       "    <tr>\n",
       "      <th>51569</th>\n",
       "      <td>SeeYa Restaurant</td>\n",
       "      <td>3.3</td>\n",
       "      <td>KR Puram</td>\n",
       "      <td>NaN</td>\n",
       "      <td>North Indian Kerala Chinese</td>\n",
       "      <td>350.0</td>\n",
       "      <td>Whitefield</td>\n",
       "      <td>Whitefield KR Puram</td>\n",
       "    </tr>\n",
       "    <tr>\n",
       "      <th>51651</th>\n",
       "      <td>Plunge - Sheraton Grand Bengaluru Whitefield H...</td>\n",
       "      <td>NaN</td>\n",
       "      <td>Whitefield</td>\n",
       "      <td>NaN</td>\n",
       "      <td>Finger Food</td>\n",
       "      <td>2000.0</td>\n",
       "      <td>Whitefield</td>\n",
       "      <td>Whitefield Whitefield</td>\n",
       "    </tr>\n",
       "  </tbody>\n",
       "</table>\n",
       "<p>8784 rows × 8 columns</p>\n",
       "</div>"
      ],
      "text/plain": [
       "                                                    name  rate  \\\n",
       "0                                                  Jalsa   4.1   \n",
       "1                                         Spice Elephant   4.1   \n",
       "2                                        San Churro Cafe   3.8   \n",
       "3                                  Addhuri Udupi Bhojana   3.7   \n",
       "4                                          Grand Village   3.8   \n",
       "...                                                  ...   ...   \n",
       "51544  Chime - Sheraton Grand Bengaluru Whitefield Ho...   4.3   \n",
       "51547                       The Nest - The Den Bengaluru   3.4   \n",
       "51551                                      Nawabs Empire   3.2   \n",
       "51569                                   SeeYa Restaurant   3.3   \n",
       "51651  Plunge - Sheraton Grand Bengaluru Whitefield H...   NaN   \n",
       "\n",
       "                         location  \\\n",
       "0                    Banashankari   \n",
       "1                    Banashankari   \n",
       "2                    Banashankari   \n",
       "3                    Banashankari   \n",
       "4                    Basavanagudi   \n",
       "...                           ...   \n",
       "51544  ITPL Main Road, Whitefield   \n",
       "51547  ITPL Main Road, Whitefield   \n",
       "51551  ITPL Main Road, Whitefield   \n",
       "51569                    KR Puram   \n",
       "51651                  Whitefield   \n",
       "\n",
       "                                              dish_liked  \\\n",
       "0      Pasta, Lunch Buffet, Masala Papad, Paneer Laja...   \n",
       "1      Momos, Lunch Buffet, Chocolate Nirvana, Thai G...   \n",
       "2      Churros, Cannelloni, Minestrone Soup, Hot Choc...   \n",
       "3                                            Masala Dosa   \n",
       "4                                    Panipuri, Gol Gappe   \n",
       "...                                                  ...   \n",
       "51544                       Cocktails, Pizza, Buttermilk   \n",
       "51547                                                NaN   \n",
       "51551                                                NaN   \n",
       "51569                                                NaN   \n",
       "51651                                                NaN   \n",
       "\n",
       "                                   cuisines  approx_cost neighbourhood  \\\n",
       "0              North Indian Mughlai Chinese        800.0  Banashankari   \n",
       "1                 Chinese North Indian Thai        800.0  Banashankari   \n",
       "2                      Cafe Mexican Italian        800.0  Banashankari   \n",
       "3                 South Indian North Indian        300.0  Banashankari   \n",
       "4                   North Indian Rajasthani        600.0  Banashankari   \n",
       "...                                     ...          ...           ...   \n",
       "51544                           Finger Food       2500.0    Whitefield   \n",
       "51547  Finger Food North Indian Continental       1500.0    Whitefield   \n",
       "51551    North Indian Chinese Arabian Momos        300.0    Whitefield   \n",
       "51569           North Indian Kerala Chinese        350.0    Whitefield   \n",
       "51651                           Finger Food       2000.0    Whitefield   \n",
       "\n",
       "                                        addr  \n",
       "0                  Banashankari Banashankari  \n",
       "1                  Banashankari Banashankari  \n",
       "2                  Banashankari Banashankari  \n",
       "3                  Banashankari Banashankari  \n",
       "4                  Banashankari Basavanagudi  \n",
       "...                                      ...  \n",
       "51544  Whitefield ITPL Main Road, Whitefield  \n",
       "51547  Whitefield ITPL Main Road, Whitefield  \n",
       "51551  Whitefield ITPL Main Road, Whitefield  \n",
       "51569                    Whitefield KR Puram  \n",
       "51651                  Whitefield Whitefield  \n",
       "\n",
       "[8784 rows x 8 columns]"
      ]
     },
     "execution_count": 16,
     "metadata": {},
     "output_type": "execute_result"
    }
   ],
   "source": [
    "df"
   ]
  },
  {
   "cell_type": "code",
   "execution_count": 17,
   "metadata": {},
   "outputs": [],
   "source": [
    "train_df = df.iloc[:5000,:]\n",
    "test_df = df.iloc[5000:,:]\n",
    "df.set_index('name', inplace=True)\n",
    "train_df.set_index('name', inplace=True)\n",
    "test_df.set_index('name', inplace=True)\n",
    "indices = pd.Series(df.index)"
   ]
  },
  {
   "cell_type": "code",
   "execution_count": 8,
   "metadata": {},
   "outputs": [
    {
     "name": "stdout",
     "output_type": "stream",
     "text": [
      "ERROR! Session/line number was not unique in database. History logging moved to new session 85\n"
     ]
    }
   ],
   "source": [
    "l = [i for i in df['neighbourhood']]\n",
    "l2 = [i for i in df['cuisines']]\n",
    "l3 = [i for i in df['dish_liked']]\n",
    "\n",
    "dish=[]\n",
    "for i in l3:\n",
    "    if pd.isna(i):\n",
    "        dish.append('')\n",
    "    else:\n",
    "        dish.append(''.join(i.split(',')))\n",
    "\n",
    "# integer encode the documents\n",
    "vocab_size = 200\n",
    "encoded_docs = [one_hot(d, vocab_size) for d in l]\n",
    "encoded_docs2 = [one_hot(d, vocab_size) for d in l2]\n",
    "encoded_docs3 = [one_hot(d, vocab_size) for d in dish]\n",
    "\n",
    "max_length = 10\n",
    "padded_docs = pad_sequences(encoded_docs, maxlen=max_length, padding='post')\n",
    "padded_docs2 = pad_sequences(encoded_docs2, maxlen=max_length, padding='post')\n",
    "padded_docs3 = pad_sequences(encoded_docs3, maxlen=max_length, padding='post')"
   ]
  },
  {
   "cell_type": "code",
   "execution_count": 9,
   "metadata": {
    "scrolled": false
   },
   "outputs": [
    {
     "name": "stdout",
     "output_type": "stream",
     "text": [
      "Model: \"sequential_2\"\n",
      "_________________________________________________________________\n",
      "Layer (type)                 Output Shape              Param #   \n",
      "=================================================================\n",
      "embedding_1 (Embedding)      (None, 10, 25)            5000      \n",
      "_________________________________________________________________\n",
      "flatten_1 (Flatten)          (None, 250)               0         \n",
      "_________________________________________________________________\n",
      "dense_1 (Dense)              (None, 1)                 251       \n",
      "=================================================================\n",
      "Total params: 5,251\n",
      "Trainable params: 5,251\n",
      "Non-trainable params: 0\n",
      "_________________________________________________________________\n",
      "None\n"
     ]
    }
   ],
   "source": [
    "# define the model\n",
    "model = Sequential()\n",
    "model.add(Embedding(vocab_size, 25, input_length=max_length))\n",
    "model.add(Flatten())\n",
    "model.add(Dense(1, activation='sigmoid'))\n",
    "# compile the model\n",
    "model.compile(optimizer='adam', loss='binary_crossentropy', metrics=['accuracy'])\n",
    "# summarize the model\n",
    "print(model.summary())"
   ]
  },
  {
   "cell_type": "code",
   "execution_count": 10,
   "metadata": {},
   "outputs": [],
   "source": [
    "# fit the model\n",
    "embd = model.predict(padded_docs)\n",
    "embd2 = model.predict(padded_docs2)\n",
    "embd3 = model.predict(padded_docs3)"
   ]
  },
  {
   "cell_type": "code",
   "execution_count": 11,
   "metadata": {},
   "outputs": [
    {
     "data": {
      "text/plain": [
       "(array([[0.49930283],\n",
       "        [0.49930283],\n",
       "        [0.49930283],\n",
       "        ...,\n",
       "        [0.49947673],\n",
       "        [0.49947673],\n",
       "        [0.49947673]], dtype=float32),\n",
       " array([[0.49367636],\n",
       "        [0.5019616 ],\n",
       "        [0.4952883 ],\n",
       "        ...,\n",
       "        [0.48930046],\n",
       "        [0.48692673],\n",
       "        [0.4945088 ]], dtype=float32),\n",
       " array([[0.49692136],\n",
       "        [0.5007732 ],\n",
       "        [0.50788665],\n",
       "        ...,\n",
       "        [0.49898437],\n",
       "        [0.49898437],\n",
       "        [0.49898437]], dtype=float32))"
      ]
     },
     "execution_count": 11,
     "metadata": {},
     "output_type": "execute_result"
    }
   ],
   "source": [
    "embd,embd2,embd3"
   ]
  },
  {
   "cell_type": "code",
   "execution_count": 18,
   "metadata": {},
   "outputs": [],
   "source": [
    "sim=[]\n",
    "for i in range(indices.shape[0]):\n",
    "    #sim.append([embd[i][0],embd2[i][0],embd3[i][0]])\n",
    "    #sim.append([embd[i][0],embd2[i][0],embd3[i][0]]) \n",
    "    sim.append([embd[i][0],embd2[i][0],embd3[i][0]])"
   ]
  },
  {
   "cell_type": "code",
   "execution_count": 19,
   "metadata": {},
   "outputs": [
    {
     "data": {
      "text/plain": [
       "[0.49930283, 0.49367636, 0.49692136]"
      ]
     },
     "execution_count": 19,
     "metadata": {},
     "output_type": "execute_result"
    }
   ],
   "source": [
    "sim[0]"
   ]
  },
  {
   "cell_type": "code",
   "execution_count": 58,
   "metadata": {
    "scrolled": true
   },
   "outputs": [],
   "source": [
    "def correlation_coefficient(T1, T2):\n",
    "    numerator = np.mean((T1 - T1.mean()) * (T2 - T2.mean()))\n",
    "    denominator = T1.std() * T2.std()\n",
    "    if denominator == 0:\n",
    "        return 0\n",
    "    else:\n",
    "        result = numerator / denominator\n",
    "        return result\n",
    "\n",
    "def rec(name):\n",
    "    idx = indices[indices == name].index[0]\n",
    "    corr,pear = [],[]\n",
    "    train_sim = sim[:5000]\n",
    "    for i in range(len(train_sim)):\n",
    "        #corr.append( (cosine_similarity([sim[idx]],[sim[i]])[0][0], i))\n",
    "        cs = cosine_similarity([sim[idx]],[train_sim[i]])[0][0]\n",
    "        p =  correlation_coefficient(np.array(sim[idx]),np.array(train_sim[i]))\n",
    "        if cs>=1:\n",
    "            corr.append((cs,i))\n",
    "        if p>=0.99995:\n",
    "            pear.append((p,i))\n",
    "     \n",
    "    corr = sorted(corr,key = lambda x:x[0], reverse=True)\n",
    "    pear = sorted(pear,key = lambda x:x[0], reverse=True)\n",
    "    corr = [c[1] for c in corr]\n",
    "    pear = [c[1] for c in pear]\n",
    "    if idx in corr:corr.remove(idx)\n",
    "    if idx in pear:pear.remove(idx)\n",
    "        \n",
    "    return corr,pear"
   ]
  },
  {
   "cell_type": "code",
   "execution_count": 60,
   "metadata": {},
   "outputs": [
    {
     "name": "stdout",
     "output_type": "stream",
     "text": [
      "Cosine Quality\n",
      "8.278\n",
      "Pearson Quality\n",
      "30.396\n",
      "\n",
      "Cosine Coverage\n",
      "0.2922\n",
      "Pearson Coverage\n",
      "0.774\n"
     ]
    }
   ],
   "source": [
    "psum =0\n",
    "csum = 0\n",
    "cset,pset = set(),set()\n",
    "for ind in test_df.index[:1000]:\n",
    "    cosine,pearson = rec(ind)\n",
    "    csum += len(cosine)\n",
    "    psum += len(pearson)\n",
    "    for i in cosine:\n",
    "        cset.add(i)\n",
    "    for i in pearson:\n",
    "        pset.add(i)\n",
    "\n",
    "print(\"Cosine Quality\")\n",
    "print(csum/1000)\n",
    "print(\"Pearson Quality\")\n",
    "print(psum/1000)\n",
    "print()\n",
    "print(\"Cosine Coverage\")\n",
    "print(len(cset)/len(train_df))\n",
    "print(\"Pearson Coverage\")\n",
    "print(len(pset)/len(train_df))"
   ]
  },
  {
   "cell_type": "code",
   "execution_count": null,
   "metadata": {},
   "outputs": [],
   "source": []
  },
  {
   "cell_type": "code",
   "execution_count": null,
   "metadata": {},
   "outputs": [],
   "source": []
  },
  {
   "cell_type": "code",
   "execution_count": null,
   "metadata": {},
   "outputs": [],
   "source": []
  },
  {
   "cell_type": "code",
   "execution_count": null,
   "metadata": {},
   "outputs": [],
   "source": []
  }
 ],
 "metadata": {
  "kernelspec": {
   "display_name": "Python 3 (ipykernel)",
   "language": "python",
   "name": "python3"
  },
  "language_info": {
   "codemirror_mode": {
    "name": "ipython",
    "version": 3
   },
   "file_extension": ".py",
   "mimetype": "text/x-python",
   "name": "python",
   "nbconvert_exporter": "python",
   "pygments_lexer": "ipython3",
   "version": "3.7.9"
  }
 },
 "nbformat": 4,
 "nbformat_minor": 4
}
