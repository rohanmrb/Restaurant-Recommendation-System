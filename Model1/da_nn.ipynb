{
 "cells": [
  {
   "cell_type": "code",
   "execution_count": 2,
   "metadata": {},
   "outputs": [],
   "source": [
    "import numpy as np\n",
    "import pandas as pd"
   ]
  },
  {
   "cell_type": "code",
   "execution_count": 3,
   "metadata": {},
   "outputs": [
    {
     "name": "stderr",
     "output_type": "stream",
     "text": [
      "Using TensorFlow backend.\n"
     ]
    }
   ],
   "source": [
    "from keras.preprocessing.text import one_hot\n",
    "from keras.preprocessing.sequence import pad_sequences\n",
    "from keras.models import Sequential\n",
    "from keras.layers import Dense\n",
    "from keras.layers import Flatten\n",
    "from keras.layers.embeddings import Embedding\n",
    "from sklearn.metrics.pairwise import cosine_similarity"
   ]
  },
  {
   "cell_type": "code",
   "execution_count": 4,
   "metadata": {},
   "outputs": [],
   "source": [
    "df = pd.read_csv('1.csv')\n",
    "df = df[['name','rate','location','dish_liked','cuisines','approx_cost','neighbourhood']]\n",
    "df.drop_duplicates('name', inplace=True)\n",
    "df.dropna(subset=['cuisines'], inplace=True)"
   ]
  },
  {
   "cell_type": "code",
   "execution_count": 5,
   "metadata": {},
   "outputs": [],
   "source": [
    "import string\n",
    "PUNCT_TO_REMOVE = string.punctuation\n",
    "def remove_punctuation(text):\n",
    "    \"\"\"custom function to remove the punctuation\"\"\"\n",
    "    return text.translate(str.maketrans('', '', PUNCT_TO_REMOVE))\n",
    "\n",
    "df[\"cuisines\"] = df[\"cuisines\"].apply(lambda text: remove_punctuation(text))\n",
    "df['addr'] = df['neighbourhood'] +' '+ df['location']\n",
    "df.set_index('name', inplace=True)\n",
    "indices = pd.Series(df.index)"
   ]
  },
  {
   "cell_type": "code",
   "execution_count": 6,
   "metadata": {},
   "outputs": [
    {
     "data": {
      "text/html": [
       "<div>\n",
       "<style scoped>\n",
       "    .dataframe tbody tr th:only-of-type {\n",
       "        vertical-align: middle;\n",
       "    }\n",
       "\n",
       "    .dataframe tbody tr th {\n",
       "        vertical-align: top;\n",
       "    }\n",
       "\n",
       "    .dataframe thead th {\n",
       "        text-align: right;\n",
       "    }\n",
       "</style>\n",
       "<table border=\"1\" class=\"dataframe\">\n",
       "  <thead>\n",
       "    <tr style=\"text-align: right;\">\n",
       "      <th></th>\n",
       "      <th>rate</th>\n",
       "      <th>location</th>\n",
       "      <th>dish_liked</th>\n",
       "      <th>cuisines</th>\n",
       "      <th>approx_cost</th>\n",
       "      <th>neighbourhood</th>\n",
       "      <th>addr</th>\n",
       "    </tr>\n",
       "    <tr>\n",
       "      <th>name</th>\n",
       "      <th></th>\n",
       "      <th></th>\n",
       "      <th></th>\n",
       "      <th></th>\n",
       "      <th></th>\n",
       "      <th></th>\n",
       "      <th></th>\n",
       "    </tr>\n",
       "  </thead>\n",
       "  <tbody>\n",
       "    <tr>\n",
       "      <th>Jalsa</th>\n",
       "      <td>4.1</td>\n",
       "      <td>Banashankari</td>\n",
       "      <td>Pasta, Lunch Buffet, Masala Papad, Paneer Laja...</td>\n",
       "      <td>North Indian Mughlai Chinese</td>\n",
       "      <td>800.0</td>\n",
       "      <td>Banashankari</td>\n",
       "      <td>Banashankari Banashankari</td>\n",
       "    </tr>\n",
       "    <tr>\n",
       "      <th>Spice Elephant</th>\n",
       "      <td>4.1</td>\n",
       "      <td>Banashankari</td>\n",
       "      <td>Momos, Lunch Buffet, Chocolate Nirvana, Thai G...</td>\n",
       "      <td>Chinese North Indian Thai</td>\n",
       "      <td>800.0</td>\n",
       "      <td>Banashankari</td>\n",
       "      <td>Banashankari Banashankari</td>\n",
       "    </tr>\n",
       "    <tr>\n",
       "      <th>San Churro Cafe</th>\n",
       "      <td>3.8</td>\n",
       "      <td>Banashankari</td>\n",
       "      <td>Churros, Cannelloni, Minestrone Soup, Hot Choc...</td>\n",
       "      <td>Cafe Mexican Italian</td>\n",
       "      <td>800.0</td>\n",
       "      <td>Banashankari</td>\n",
       "      <td>Banashankari Banashankari</td>\n",
       "    </tr>\n",
       "    <tr>\n",
       "      <th>Addhuri Udupi Bhojana</th>\n",
       "      <td>3.7</td>\n",
       "      <td>Banashankari</td>\n",
       "      <td>Masala Dosa</td>\n",
       "      <td>South Indian North Indian</td>\n",
       "      <td>300.0</td>\n",
       "      <td>Banashankari</td>\n",
       "      <td>Banashankari Banashankari</td>\n",
       "    </tr>\n",
       "    <tr>\n",
       "      <th>Grand Village</th>\n",
       "      <td>3.8</td>\n",
       "      <td>Basavanagudi</td>\n",
       "      <td>Panipuri, Gol Gappe</td>\n",
       "      <td>North Indian Rajasthani</td>\n",
       "      <td>600.0</td>\n",
       "      <td>Banashankari</td>\n",
       "      <td>Banashankari Basavanagudi</td>\n",
       "    </tr>\n",
       "    <tr>\n",
       "      <th>...</th>\n",
       "      <td>...</td>\n",
       "      <td>...</td>\n",
       "      <td>...</td>\n",
       "      <td>...</td>\n",
       "      <td>...</td>\n",
       "      <td>...</td>\n",
       "      <td>...</td>\n",
       "    </tr>\n",
       "    <tr>\n",
       "      <th>Chime - Sheraton Grand Bengaluru Whitefield Hotel &amp;...</th>\n",
       "      <td>4.3</td>\n",
       "      <td>ITPL Main Road, Whitefield</td>\n",
       "      <td>Cocktails, Pizza, Buttermilk</td>\n",
       "      <td>Finger Food</td>\n",
       "      <td>2500.0</td>\n",
       "      <td>Whitefield</td>\n",
       "      <td>Whitefield ITPL Main Road, Whitefield</td>\n",
       "    </tr>\n",
       "    <tr>\n",
       "      <th>The Nest - The Den Bengaluru</th>\n",
       "      <td>3.4</td>\n",
       "      <td>ITPL Main Road, Whitefield</td>\n",
       "      <td>NaN</td>\n",
       "      <td>Finger Food North Indian Continental</td>\n",
       "      <td>1500.0</td>\n",
       "      <td>Whitefield</td>\n",
       "      <td>Whitefield ITPL Main Road, Whitefield</td>\n",
       "    </tr>\n",
       "    <tr>\n",
       "      <th>Nawabs Empire</th>\n",
       "      <td>3.2</td>\n",
       "      <td>ITPL Main Road, Whitefield</td>\n",
       "      <td>NaN</td>\n",
       "      <td>North Indian Chinese Arabian Momos</td>\n",
       "      <td>300.0</td>\n",
       "      <td>Whitefield</td>\n",
       "      <td>Whitefield ITPL Main Road, Whitefield</td>\n",
       "    </tr>\n",
       "    <tr>\n",
       "      <th>SeeYa Restaurant</th>\n",
       "      <td>3.3</td>\n",
       "      <td>KR Puram</td>\n",
       "      <td>NaN</td>\n",
       "      <td>North Indian Kerala Chinese</td>\n",
       "      <td>350.0</td>\n",
       "      <td>Whitefield</td>\n",
       "      <td>Whitefield KR Puram</td>\n",
       "    </tr>\n",
       "    <tr>\n",
       "      <th>Plunge - Sheraton Grand Bengaluru Whitefield Hotel &amp;...</th>\n",
       "      <td>NaN</td>\n",
       "      <td>Whitefield</td>\n",
       "      <td>NaN</td>\n",
       "      <td>Finger Food</td>\n",
       "      <td>2000.0</td>\n",
       "      <td>Whitefield</td>\n",
       "      <td>Whitefield Whitefield</td>\n",
       "    </tr>\n",
       "  </tbody>\n",
       "</table>\n",
       "<p>8784 rows × 7 columns</p>\n",
       "</div>"
      ],
      "text/plain": [
       "                                                    rate  \\\n",
       "name                                                       \n",
       "Jalsa                                                4.1   \n",
       "Spice Elephant                                       4.1   \n",
       "San Churro Cafe                                      3.8   \n",
       "Addhuri Udupi Bhojana                                3.7   \n",
       "Grand Village                                        3.8   \n",
       "...                                                  ...   \n",
       "Chime - Sheraton Grand Bengaluru Whitefield Hot...   4.3   \n",
       "The Nest - The Den Bengaluru                         3.4   \n",
       "Nawabs Empire                                        3.2   \n",
       "SeeYa Restaurant                                     3.3   \n",
       "Plunge - Sheraton Grand Bengaluru Whitefield Ho...   NaN   \n",
       "\n",
       "                                                                      location  \\\n",
       "name                                                                             \n",
       "Jalsa                                                             Banashankari   \n",
       "Spice Elephant                                                    Banashankari   \n",
       "San Churro Cafe                                                   Banashankari   \n",
       "Addhuri Udupi Bhojana                                             Banashankari   \n",
       "Grand Village                                                     Basavanagudi   \n",
       "...                                                                        ...   \n",
       "Chime - Sheraton Grand Bengaluru Whitefield Hot...  ITPL Main Road, Whitefield   \n",
       "The Nest - The Den Bengaluru                        ITPL Main Road, Whitefield   \n",
       "Nawabs Empire                                       ITPL Main Road, Whitefield   \n",
       "SeeYa Restaurant                                                      KR Puram   \n",
       "Plunge - Sheraton Grand Bengaluru Whitefield Ho...                  Whitefield   \n",
       "\n",
       "                                                                                           dish_liked  \\\n",
       "name                                                                                                    \n",
       "Jalsa                                               Pasta, Lunch Buffet, Masala Papad, Paneer Laja...   \n",
       "Spice Elephant                                      Momos, Lunch Buffet, Chocolate Nirvana, Thai G...   \n",
       "San Churro Cafe                                     Churros, Cannelloni, Minestrone Soup, Hot Choc...   \n",
       "Addhuri Udupi Bhojana                                                                     Masala Dosa   \n",
       "Grand Village                                                                     Panipuri, Gol Gappe   \n",
       "...                                                                                               ...   \n",
       "Chime - Sheraton Grand Bengaluru Whitefield Hot...                       Cocktails, Pizza, Buttermilk   \n",
       "The Nest - The Den Bengaluru                                                                      NaN   \n",
       "Nawabs Empire                                                                                     NaN   \n",
       "SeeYa Restaurant                                                                                  NaN   \n",
       "Plunge - Sheraton Grand Bengaluru Whitefield Ho...                                                NaN   \n",
       "\n",
       "                                                                                cuisines  \\\n",
       "name                                                                                       \n",
       "Jalsa                                                       North Indian Mughlai Chinese   \n",
       "Spice Elephant                                                 Chinese North Indian Thai   \n",
       "San Churro Cafe                                                     Cafe Mexican Italian   \n",
       "Addhuri Udupi Bhojana                                          South Indian North Indian   \n",
       "Grand Village                                                    North Indian Rajasthani   \n",
       "...                                                                                  ...   \n",
       "Chime - Sheraton Grand Bengaluru Whitefield Hot...                           Finger Food   \n",
       "The Nest - The Den Bengaluru                        Finger Food North Indian Continental   \n",
       "Nawabs Empire                                         North Indian Chinese Arabian Momos   \n",
       "SeeYa Restaurant                                             North Indian Kerala Chinese   \n",
       "Plunge - Sheraton Grand Bengaluru Whitefield Ho...                           Finger Food   \n",
       "\n",
       "                                                    approx_cost neighbourhood  \\\n",
       "name                                                                            \n",
       "Jalsa                                                     800.0  Banashankari   \n",
       "Spice Elephant                                            800.0  Banashankari   \n",
       "San Churro Cafe                                           800.0  Banashankari   \n",
       "Addhuri Udupi Bhojana                                     300.0  Banashankari   \n",
       "Grand Village                                             600.0  Banashankari   \n",
       "...                                                         ...           ...   \n",
       "Chime - Sheraton Grand Bengaluru Whitefield Hot...       2500.0    Whitefield   \n",
       "The Nest - The Den Bengaluru                             1500.0    Whitefield   \n",
       "Nawabs Empire                                             300.0    Whitefield   \n",
       "SeeYa Restaurant                                          350.0    Whitefield   \n",
       "Plunge - Sheraton Grand Bengaluru Whitefield Ho...       2000.0    Whitefield   \n",
       "\n",
       "                                                                                     addr  \n",
       "name                                                                                       \n",
       "Jalsa                                                           Banashankari Banashankari  \n",
       "Spice Elephant                                                  Banashankari Banashankari  \n",
       "San Churro Cafe                                                 Banashankari Banashankari  \n",
       "Addhuri Udupi Bhojana                                           Banashankari Banashankari  \n",
       "Grand Village                                                   Banashankari Basavanagudi  \n",
       "...                                                                                   ...  \n",
       "Chime - Sheraton Grand Bengaluru Whitefield Hot...  Whitefield ITPL Main Road, Whitefield  \n",
       "The Nest - The Den Bengaluru                        Whitefield ITPL Main Road, Whitefield  \n",
       "Nawabs Empire                                       Whitefield ITPL Main Road, Whitefield  \n",
       "SeeYa Restaurant                                                      Whitefield KR Puram  \n",
       "Plunge - Sheraton Grand Bengaluru Whitefield Ho...                  Whitefield Whitefield  \n",
       "\n",
       "[8784 rows x 7 columns]"
      ]
     },
     "execution_count": 6,
     "metadata": {},
     "output_type": "execute_result"
    }
   ],
   "source": [
    "df"
   ]
  },
  {
   "cell_type": "code",
   "execution_count": 7,
   "metadata": {},
   "outputs": [],
   "source": [
    "l = [i for i in df['addr']]\n",
    "l2 = [i for i in df['cuisines']]\n",
    "l3 = [i for i in df['dish_liked']]"
   ]
  },
  {
   "cell_type": "code",
   "execution_count": 8,
   "metadata": {},
   "outputs": [],
   "source": [
    "dish=[]\n",
    "for i in l3:\n",
    "    if pd.isna(i):\n",
    "        dish.append('')\n",
    "    else:\n",
    "        dish.append(''.join(i.split(',')))"
   ]
  },
  {
   "cell_type": "code",
   "execution_count": 9,
   "metadata": {},
   "outputs": [],
   "source": [
    "# integer encode the documents\n",
    "vocab_size = 50\n",
    "encoded_docs = [one_hot(d, vocab_size) for d in l]\n",
    "encoded_docs2 = [one_hot(d, vocab_size) for d in l2]\n",
    "encoded_docs3 = [one_hot(d, vocab_size) for d in dish]\n",
    "\n",
    "max_length = 10\n",
    "padded_docs = pad_sequences(encoded_docs, maxlen=max_length, padding='post')\n",
    "padded_docs2 = pad_sequences(encoded_docs2, maxlen=max_length, padding='post')\n",
    "padded_docs3 = pad_sequences(encoded_docs3, maxlen=max_length, padding='post')\n"
   ]
  },
  {
   "cell_type": "code",
   "execution_count": 10,
   "metadata": {
    "scrolled": false
   },
   "outputs": [
    {
     "name": "stdout",
     "output_type": "stream",
     "text": [
      "Model: \"sequential_1\"\n",
      "_________________________________________________________________\n",
      "Layer (type)                 Output Shape              Param #   \n",
      "=================================================================\n",
      "embedding_1 (Embedding)      (None, 10, 8)             400       \n",
      "_________________________________________________________________\n",
      "flatten_1 (Flatten)          (None, 80)                0         \n",
      "_________________________________________________________________\n",
      "dense_1 (Dense)              (None, 1)                 81        \n",
      "=================================================================\n",
      "Total params: 481\n",
      "Trainable params: 481\n",
      "Non-trainable params: 0\n",
      "_________________________________________________________________\n",
      "None\n"
     ]
    }
   ],
   "source": [
    "# define the model\n",
    "model = Sequential()\n",
    "model.add(Embedding(vocab_size, 8, input_length=max_length))\n",
    "model.add(Flatten())\n",
    "model.add(Dense(1, activation='sigmoid'))\n",
    "# compile the model\n",
    "model.compile(optimizer='adam', loss='binary_crossentropy', metrics=['accuracy'])\n",
    "# summarize the model\n",
    "print(model.summary())"
   ]
  },
  {
   "cell_type": "code",
   "execution_count": 11,
   "metadata": {},
   "outputs": [],
   "source": [
    "# fit the model\n",
    "embd = model.predict(padded_docs)\n",
    "embd2 = model.predict(padded_docs2)\n",
    "embd3 = model.predict(padded_docs3)"
   ]
  },
  {
   "cell_type": "code",
   "execution_count": 12,
   "metadata": {},
   "outputs": [
    {
     "data": {
      "text/plain": [
       "(array([[0.5022929 ],\n",
       "        [0.5022929 ],\n",
       "        [0.5022929 ],\n",
       "        ...,\n",
       "        [0.5126716 ],\n",
       "        [0.51264906],\n",
       "        [0.51373714]], dtype=float32),\n",
       " array([[0.50852466],\n",
       "        [0.50823224],\n",
       "        [0.50693524],\n",
       "        ...,\n",
       "        [0.5053636 ],\n",
       "        [0.5060385 ],\n",
       "        [0.50904024]], dtype=float32),\n",
       " array([[0.5217099 ],\n",
       "        [0.50056547],\n",
       "        [0.50743616],\n",
       "        ...,\n",
       "        [0.512577  ],\n",
       "        [0.512577  ],\n",
       "        [0.512577  ]], dtype=float32))"
      ]
     },
     "execution_count": 12,
     "metadata": {},
     "output_type": "execute_result"
    }
   ],
   "source": [
    "embd,embd2,embd3"
   ]
  },
  {
   "cell_type": "code",
   "execution_count": 56,
   "metadata": {},
   "outputs": [],
   "source": [
    "sim=[]\n",
    "for i in range(indices.shape[0]):\n",
    "    #sim.append([embd[i][0],embd2[i][0],embd3[i][0]])\n",
    "    #sim.append([embd[i][0],embd2[i][0],embd3[i][0]]) \n",
    "    sim.append([embd[i][0],embd2[i][0],embd3[i][0]])"
   ]
  },
  {
   "cell_type": "code",
   "execution_count": 57,
   "metadata": {},
   "outputs": [
    {
     "data": {
      "text/plain": [
       "[0.5022929, 0.50852466, 0.5217099]"
      ]
     },
     "execution_count": 57,
     "metadata": {},
     "output_type": "execute_result"
    }
   ],
   "source": [
    "sim[0]"
   ]
  },
  {
   "cell_type": "code",
   "execution_count": null,
   "metadata": {},
   "outputs": [],
   "source": [
    "def rec(name):\n",
    "    idx = indices[indices == name].index[0]\n",
    "    corr,reco = [],[]\n",
    "    for i in range(len(sim)):\n",
    "        #corr.append( (cosine_similarity([sim[idx]],[sim[i]])[0][0], i))\n",
    "        cs = cosine_similarity([sim[idx]],[sim[i]])[0][0]\n",
    "        if cs>=0.99995:\n",
    "            corr.append((cs,i))\n",
    "     \n",
    "    corr = sorted(corr,key = lambda x:x[0], reverse=True)\n",
    "    reco = [c[1] for c in corr]\n",
    "    if idx in reco:reco.remove(idx)\n",
    "    print('Coverage = ',(len(corr)*100/df.shape[0]),'Percent')\n",
    "    \n",
    "    return df.iloc[reco[:11]]\n",
    "    \n",
    "\n",
    "    \n",
    "rec(\"Jalsa\")"
   ]
  },
  {
   "cell_type": "code",
   "execution_count": 53,
   "metadata": {},
   "outputs": [
    {
     "data": {
      "text/plain": [
       "0.99999857"
      ]
     },
     "execution_count": 53,
     "metadata": {},
     "output_type": "execute_result"
    }
   ],
   "source": [
    "cosine_similarity([sim[11]],[sim[0]])[0][0]"
   ]
  },
  {
   "cell_type": "code",
   "execution_count": null,
   "metadata": {},
   "outputs": [],
   "source": []
  },
  {
   "cell_type": "code",
   "execution_count": null,
   "metadata": {},
   "outputs": [],
   "source": []
  },
  {
   "cell_type": "code",
   "execution_count": null,
   "metadata": {},
   "outputs": [],
   "source": []
  },
  {
   "cell_type": "code",
   "execution_count": null,
   "metadata": {},
   "outputs": [],
   "source": []
  }
 ],
 "metadata": {
  "kernelspec": {
   "display_name": "Python 3 (ipykernel)",
   "language": "python",
   "name": "python3"
  },
  "language_info": {
   "codemirror_mode": {
    "name": "ipython",
    "version": 3
   },
   "file_extension": ".py",
   "mimetype": "text/x-python",
   "name": "python",
   "nbconvert_exporter": "python",
   "pygments_lexer": "ipython3",
   "version": "3.7.9"
  }
 },
 "nbformat": 4,
 "nbformat_minor": 4
}
