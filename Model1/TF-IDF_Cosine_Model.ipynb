{
 "cells": [
  {
   "cell_type": "code",
   "execution_count": 1,
   "metadata": {},
   "outputs": [],
   "source": [
    "import pandas as pd\n",
    "pd.options.mode.chained_assignment = None # default='warn'\n",
    "from sklearn.feature_extraction.text import TfidfVectorizer\n",
    "from sklearn.metrics.pairwise import cosine_similarity as cs\n",
    "from scipy.stats import pearsonr\n",
    "from sklearn.metrics.pairwise import euclidean_distances\n",
    "from sklearn.model_selection import train_test_split\n",
    "df = pd.read_csv('1.csv')"
   ]
  },
  {
   "cell_type": "code",
   "execution_count": 2,
   "metadata": {},
   "outputs": [],
   "source": [
    "df = df[['name','rate','location','dish_liked','cuisines','approx_cost','neighbourhood']]\n",
    "df.drop_duplicates('name', inplace=True)\n",
    "df.dropna(subset=['cuisines'], inplace=True)"
   ]
  },
  {
   "cell_type": "code",
   "execution_count": 3,
   "metadata": {},
   "outputs": [],
   "source": [
    "import string\n",
    "PUNCT_TO_REMOVE = string.punctuation\n",
    "def remove_punctuation(text):\n",
    "    \"\"\"custom function to remove the punctuation\"\"\"\n",
    "    return text.translate(str.maketrans('', '', PUNCT_TO_REMOVE))\n",
    "\n",
    "df[\"cuisines\"] = df[\"cuisines\"].apply(lambda text: remove_punctuation(text))"
   ]
  },
  {
   "cell_type": "code",
   "execution_count": 4,
   "metadata": {},
   "outputs": [],
   "source": [
    "df['addr'] = df['neighbourhood'] +' '+ df['location']"
   ]
  },
  {
   "cell_type": "code",
   "execution_count": 5,
   "metadata": {},
   "outputs": [],
   "source": [
    "df.set_index('name', inplace=True)\n",
    "indices = pd.Series(df.index)"
   ]
  },
  {
   "cell_type": "code",
   "execution_count": 6,
   "metadata": {},
   "outputs": [],
   "source": [
    "tfidf = TfidfVectorizer(analyzer='word', ngram_range=(1, 2), min_df=0, stop_words='english')\n",
    "tfidf_cuisine_matrix = tfidf.fit_transform(df['cuisines'])\n",
    "tfidf_location_matrix = tfidf.fit_transform(df['addr'])"
   ]
  },
  {
   "cell_type": "code",
   "execution_count": 7,
   "metadata": {},
   "outputs": [],
   "source": [
    "cuisine_similarity = cs(tfidf_cuisine_matrix,tfidf_cuisine_matrix)\n",
    "location_similarity = cs(tfidf_location_matrix,tfidf_location_matrix)"
   ]
  },
  {
   "cell_type": "code",
   "execution_count": 8,
   "metadata": {},
   "outputs": [],
   "source": [
    "def recommend(name):\n",
    "    recommendations = []\n",
    "\n",
    "    idx = indices[indices == name].index[0]\n",
    "\n",
    "    cuisine_series = pd.Series(cuisine_similarity[idx]).sort_values(ascending=False)\n",
    "    #print(cuisine_series)\n",
    "    top_cuisine = list(cuisine_series.iloc[0:2000].index)\n",
    "\n",
    "    location_series = pd.Series(location_similarity[idx]).sort_values(ascending=False)\n",
    "    top_location = list(location_series.iloc[0:1000].index)\n",
    "\n",
    "    for i in top_cuisine:\n",
    "        for j in top_location:\n",
    "            if i == j:\n",
    "                recommendations.append(list(df.index)[i])\n",
    "\n",
    "    df_new = pd.DataFrame(columns=['cuisines','rate', 'approx_cost', 'addr'])\n",
    "    \n",
    "    for each in recommendations:\n",
    "        df_new = df_new.append(pd.DataFrame(df[['cuisines','rate', 'approx_cost', 'addr']][df.index == each].sample()))\n",
    "    \n",
    "    df_new = df_new.drop_duplicates()\n",
    "\n",
    "    df_new['cost_diff'] = df_new['approx_cost'] - (df[df.index == name]['approx_cost'].values[0])\n",
    "    drop_names = df_new[(df_new['cost_diff'] > 201) | (df_new['cost_diff'] < -201)].index\n",
    "    df_new.drop(drop_names, inplace=True)\n",
    "\n",
    "    df_new = df_new.sort_values(by='rate', ascending=False)\n",
    "\n",
    "    df_new.to_csv('temp.csv')\n",
    "    df_new.drop(['cost_diff'], axis=1, inplace=True)\n",
    "    return df_new.head(10)"
   ]
  },
  {
   "cell_type": "code",
   "execution_count": 9,
   "metadata": {},
   "outputs": [
    {
     "data": {
      "text/html": [
       "<div>\n",
       "<style scoped>\n",
       "    .dataframe tbody tr th:only-of-type {\n",
       "        vertical-align: middle;\n",
       "    }\n",
       "\n",
       "    .dataframe tbody tr th {\n",
       "        vertical-align: top;\n",
       "    }\n",
       "\n",
       "    .dataframe thead th {\n",
       "        text-align: right;\n",
       "    }\n",
       "</style>\n",
       "<table border=\"1\" class=\"dataframe\">\n",
       "  <thead>\n",
       "    <tr style=\"text-align: right;\">\n",
       "      <th></th>\n",
       "      <th>cuisines</th>\n",
       "      <th>rate</th>\n",
       "      <th>approx_cost</th>\n",
       "      <th>addr</th>\n",
       "    </tr>\n",
       "  </thead>\n",
       "  <tbody>\n",
       "    <tr>\n",
       "      <th>Empire Restaurant</th>\n",
       "      <td>North Indian Mughlai South Indian Chinese</td>\n",
       "      <td>4.4</td>\n",
       "      <td>750.0</td>\n",
       "      <td>Banashankari Jayanagar</td>\n",
       "    </tr>\n",
       "    <tr>\n",
       "      <th>Meghana Foods</th>\n",
       "      <td>Biryani North Indian Chinese</td>\n",
       "      <td>4.4</td>\n",
       "      <td>600.0</td>\n",
       "      <td>Banashankari Jayanagar</td>\n",
       "    </tr>\n",
       "    <tr>\n",
       "      <th>The Royal Corner - Pai Viceroy</th>\n",
       "      <td>North Indian Chinese</td>\n",
       "      <td>4.2</td>\n",
       "      <td>900.0</td>\n",
       "      <td>Banashankari Jayanagar</td>\n",
       "    </tr>\n",
       "    <tr>\n",
       "      <th>Kapoor's Cafe</th>\n",
       "      <td>North Indian</td>\n",
       "      <td>4.2</td>\n",
       "      <td>800.0</td>\n",
       "      <td>Banashankari Jayanagar</td>\n",
       "    </tr>\n",
       "    <tr>\n",
       "      <th>Jalsa</th>\n",
       "      <td>North Indian Mughlai Chinese</td>\n",
       "      <td>4.1</td>\n",
       "      <td>800.0</td>\n",
       "      <td>Banashankari Banashankari</td>\n",
       "    </tr>\n",
       "    <tr>\n",
       "      <th>Hara Fine Dine</th>\n",
       "      <td>North Indian Chinese</td>\n",
       "      <td>4.0</td>\n",
       "      <td>800.0</td>\n",
       "      <td>Banashankari Banashankari</td>\n",
       "    </tr>\n",
       "    <tr>\n",
       "      <th>1947</th>\n",
       "      <td>North Indian Chinese</td>\n",
       "      <td>4.0</td>\n",
       "      <td>850.0</td>\n",
       "      <td>Banashankari Banashankari</td>\n",
       "    </tr>\n",
       "    <tr>\n",
       "      <th>Mint and Mustard</th>\n",
       "      <td>North Indian Chinese</td>\n",
       "      <td>4.0</td>\n",
       "      <td>750.0</td>\n",
       "      <td>Banashankari Basavanagudi</td>\n",
       "    </tr>\n",
       "    <tr>\n",
       "      <th>Pramukh Family Restaurant</th>\n",
       "      <td>North Indian Chinese Mughlai</td>\n",
       "      <td>3.9</td>\n",
       "      <td>700.0</td>\n",
       "      <td>Banashankari Basavanagudi</td>\n",
       "    </tr>\n",
       "    <tr>\n",
       "      <th>Thamboola</th>\n",
       "      <td>North Indian Chinese Continental</td>\n",
       "      <td>3.9</td>\n",
       "      <td>800.0</td>\n",
       "      <td>Banashankari Banashankari</td>\n",
       "    </tr>\n",
       "  </tbody>\n",
       "</table>\n",
       "</div>"
      ],
      "text/plain": [
       "                                                                 cuisines  \\\n",
       "Empire Restaurant               North Indian Mughlai South Indian Chinese   \n",
       "Meghana Foods                                Biryani North Indian Chinese   \n",
       "The Royal Corner - Pai Viceroy                       North Indian Chinese   \n",
       "Kapoor's Cafe                                                North Indian   \n",
       "Jalsa                                        North Indian Mughlai Chinese   \n",
       "Hara Fine Dine                                       North Indian Chinese   \n",
       "1947                                                 North Indian Chinese   \n",
       "Mint and Mustard                                     North Indian Chinese   \n",
       "Pramukh Family Restaurant                    North Indian Chinese Mughlai   \n",
       "Thamboola                                North Indian Chinese Continental   \n",
       "\n",
       "                                rate  approx_cost                       addr  \n",
       "Empire Restaurant                4.4        750.0     Banashankari Jayanagar  \n",
       "Meghana Foods                    4.4        600.0     Banashankari Jayanagar  \n",
       "The Royal Corner - Pai Viceroy   4.2        900.0     Banashankari Jayanagar  \n",
       "Kapoor's Cafe                    4.2        800.0     Banashankari Jayanagar  \n",
       "Jalsa                            4.1        800.0  Banashankari Banashankari  \n",
       "Hara Fine Dine                   4.0        800.0  Banashankari Banashankari  \n",
       "1947                             4.0        850.0  Banashankari Banashankari  \n",
       "Mint and Mustard                 4.0        750.0  Banashankari Basavanagudi  \n",
       "Pramukh Family Restaurant        3.9        700.0  Banashankari Basavanagudi  \n",
       "Thamboola                        3.9        800.0  Banashankari Banashankari  "
      ]
     },
     "execution_count": 9,
     "metadata": {},
     "output_type": "execute_result"
    }
   ],
   "source": [
    "recommend('Jalsa')"
   ]
  },
  {
   "cell_type": "code",
   "execution_count": null,
   "metadata": {},
   "outputs": [],
   "source": []
  }
 ],
 "metadata": {
  "kernelspec": {
   "display_name": "Python 3 (ipykernel)",
   "language": "python",
   "name": "python3"
  },
  "language_info": {
   "codemirror_mode": {
    "name": "ipython",
    "version": 3
   },
   "file_extension": ".py",
   "mimetype": "text/x-python",
   "name": "python",
   "nbconvert_exporter": "python",
   "pygments_lexer": "ipython3",
   "version": "3.7.6"
  }
 },
 "nbformat": 4,
 "nbformat_minor": 4
}
